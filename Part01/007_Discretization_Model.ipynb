{
 "cells": [
  {
   "cell_type": "markdown",
   "metadata": {},
   "source": [
    "## 007_Control Simulation \n",
    "## Discretization Model \n",
    "\n",
    "<img src=\"007_Discretization.png\" style=\"width: 1000px;\"/>\n",
    "<img src=\"007_DiscretizationSS.png\" style=\"width: 1000px;\"/>\n",
    "<img src=\"007_DiscretizationLibrary.png\" style=\"width: 1000px;\"/>\n",
    "<img src=\"007_DiscretizationEX1.png\" style=\"width: 1000px;\"/>"
   ]
  },
  {
   "cell_type": "code",
   "execution_count": 1,
   "metadata": {},
   "outputs": [
    {
     "name": "stderr",
     "output_type": "stream",
     "text": [
      "c:\\Users\\JAMES\\AppData\\Local\\Programs\\Python\\Python36\\lib\\importlib\\_bootstrap.py:205: RuntimeWarning: numpy.ufunc size changed, may indicate binary incompatibility. Expected 192 from C header, got 216 from PyObject\n",
      "  return f(*args, **kwds)\n",
      "c:\\Users\\JAMES\\AppData\\Local\\Programs\\Python\\Python36\\lib\\importlib\\_bootstrap.py:205: RuntimeWarning: numpy.ufunc size changed, may indicate binary incompatibility. Expected 192 from C header, got 216 from PyObject\n",
      "  return f(*args, **kwds)\n"
     ]
    },
    {
     "name": "stdout",
     "output_type": "stream",
     "text": [
      "StateSpaceContinuous(\n",
      "array([[-0.25,  0.  ],\n",
      "       [ 0.  ,  0.  ]]),\n",
      "array([[0.75],\n",
      "       [0.  ]]),\n",
      "array([[1, 0]]),\n",
      "array([[0]]),\n",
      "dt: None\n",
      ")\n",
      "StateSpaceDiscrete(\n",
      "array([[0.975, 0.   ],\n",
      "       [0.   , 1.   ]]),\n",
      "array([[0.075],\n",
      "       [0.   ]]),\n",
      "array([[1., 0.]]),\n",
      "array([[0.]]),\n",
      "dt: 0.1\n",
      ")\n"
     ]
    }
   ],
   "source": [
    "import scipy.signal as sig\n",
    "\n",
    "K = 3\n",
    "T = 4\n",
    "\n",
    "# State-Space model\n",
    "A = [[-1/T, 0], [0, 0]]\n",
    "\n",
    "B = [[K/T], [0]]\n",
    "\n",
    "C = [[1, 0]]\n",
    "\n",
    "D = 0\n",
    "\n",
    "sys = sig.StateSpace(A, B, C, D)\n",
    "print(sys)\n",
    "\n",
    "sys_d = sys.to_discrete(dt=0.1, method='euler')\n",
    "print(sys_d)"
   ]
  },
  {
   "cell_type": "markdown",
   "metadata": {},
   "source": [
    "## Mass-spring-damper system\n",
    "<img src=\"007_MassSpringDamper.png\" style=\"width: 1000px;\"/>\n",
    "<img src=\"007_MassSpringDamper02.png\" style=\"width: 1000px;\"/>"
   ]
  },
  {
   "cell_type": "code",
   "execution_count": 5,
   "metadata": {},
   "outputs": [
    {
     "data": {
      "image/png": "[encoded data removed]",
      "text/plain": [
       "<Figure size 432x288 with 1 Axes>"
      ]
     },
     "metadata": {
      "needs_background": "light"
     },
     "output_type": "display_data"
    }
   ],
   "source": [
    "import numpy as np\n",
    "import matplotlib.pyplot as plt\n",
    "import scipy.signal as sig\n",
    "\n",
    "# Parameters defining the system\n",
    "c = 4 # Damping constant\n",
    "k = 2 # Stiffness of the spring\n",
    "m = 20 # mass\n",
    "F = 5 # Force\n",
    "Ft = np.ones(610)*F\n",
    "\n",
    "# Simulation paramters\n",
    "tstart = 0\n",
    "tstop = 60\n",
    "increment = 0.1\n",
    "t = np.arange(tstart, tstop+1, increment)\n",
    "\n",
    "# System matrices\n",
    "A = [[0, 1], [-k/m, -c/m]]\n",
    "B = [[0], [1/m]]\n",
    "C = [[1, 0]]\n",
    "sys = sig.StateSpace(A, B, C, 0)\n",
    "\n",
    "# Step response for the system\n",
    "t, y, x = sig.lsim(sys, Ft, t)\n",
    "x1 = x[:, 0]\n",
    "x2 = x[:, 1]\n",
    "\n",
    "plt.plot(t, x1, t, x2)\n",
    "plt.title('Simulation of Mass-Spring-Damper System')\n",
    "plt.xlabel('t')\n",
    "plt.ylabel('x(t)')\n",
    "plt.grid\n",
    "plt.show()"
   ]
  },
  {
   "cell_type": "code",
   "execution_count": null,
   "metadata": {},
   "outputs": [],
   "source": []
  },
  {
   "cell_type": "code",
   "execution_count": null,
   "metadata": {},
   "outputs": [],
   "source": []
  }
 ],
 "metadata": {
  "kernelspec": {
   "display_name": "Python 3.6.2 64-bit",
   "language": "python",
   "name": "python3"
  },
  "language_info": {
   "codemirror_mode": {
    "name": "ipython",
    "version": 3
   },
   "file_extension": ".py",
   "mimetype": "text/x-python",
   "name": "python",
   "nbconvert_exporter": "python",
   "pygments_lexer": "ipython3",
   "version": "3.6.2"
  },
  "orig_nbformat": 4,
  "vscode": {
   "interpreter": {
    "hash": "5101fdaab3cf3d3e08bb52931d9e81fe01e2a86a264a5f0d2a64a0493622ff29"
   }
  }
 },
 "nbformat": 4,
 "nbformat_minor": 2
}
